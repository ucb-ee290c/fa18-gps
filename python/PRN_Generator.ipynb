{
 "cells": [
  {
   "cell_type": "code",
   "execution_count": 1,
   "metadata": {},
   "outputs": [],
   "source": [
    "import numpy as np"
   ]
  },
  {
   "cell_type": "code",
   "execution_count": 2,
   "metadata": {},
   "outputs": [],
   "source": [
    "def shift(register, feedback, output):\n",
    "    \"\"\"GPS Shift Register\n",
    "    \n",
    "    :param list feedback: which positions to use as feedback (1 indexed)\n",
    "    :param list output: which positions are output (1 indexed)\n",
    "    :returns output of shift register:\n",
    "    \n",
    "    \"\"\"\n",
    "    \n",
    "    # calculate output\n",
    "    out = [register[i-1] for i in output]\n",
    "    if len(out) > 1:\n",
    "        out = sum(out) % 2\n",
    "    else:\n",
    "        out = out[0]\n",
    "        \n",
    "    # modulo 2 add feedback\n",
    "    fb = sum([register[i-1] for i in feedback]) % 2\n",
    "    \n",
    "    # shift to the right\n",
    "    for i in reversed(range(len(register[1:]))):\n",
    "        register[i+1] = register[i]\n",
    "        \n",
    "    # put feedback in position 1\n",
    "    register[0] = fb\n",
    "    \n",
    "    return out"
   ]
  },
  {
   "cell_type": "code",
   "execution_count": 3,
   "metadata": {},
   "outputs": [],
   "source": [
    "SV = {\n",
    "   1: [2,6],\n",
    "   2: [3,7],\n",
    "   3: [4,8],\n",
    "   4: [5,9],\n",
    "   5: [1,9],\n",
    "   6: [2,10],\n",
    "   7: [1,8],\n",
    "   8: [2,9],\n",
    "   9: [3,10],\n",
    "  10: [2,3],\n",
    "  11: [3,4],\n",
    "  12: [5,6],\n",
    "  13: [6,7],\n",
    "  14: [7,8],\n",
    "  15: [8,9],\n",
    "  16: [9,10],\n",
    "  17: [1,4],\n",
    "  18: [2,5],\n",
    "  19: [3,6],\n",
    "  20: [4,7],\n",
    "  21: [5,8],\n",
    "  22: [6,9],\n",
    "  23: [1,3],\n",
    "  24: [4,6],\n",
    "  25: [5,7],\n",
    "  26: [6,8],\n",
    "  27: [7,9],\n",
    "  28: [8,10],\n",
    "  29: [1,6],\n",
    "  30: [2,7],\n",
    "  31: [3,8],\n",
    "  32: [4,9],\n",
    "}"
   ]
  },
  {
   "cell_type": "code",
   "execution_count": 4,
   "metadata": {},
   "outputs": [],
   "source": [
    "def PRN(sv):\n",
    "    \"\"\"Build the CA code (PRN) for a given satellite ID\n",
    "    \n",
    "    :param int sv: satellite code (1-32)\n",
    "    :returns list: ca code for chosen satellite\n",
    "    \n",
    "    \"\"\"\n",
    "    \n",
    "    # init registers\n",
    "    G1 = [1 for i in range(10)]\n",
    "    G2 = [1 for i in range(10)]\n",
    "\n",
    "    ca = [] # stuff output in here\n",
    "    \n",
    "    # create sequence\n",
    "    for i in range(1023):\n",
    "        g1 = shift(G1, [3,10], [10])\n",
    "        g2 = shift(G2, [2,3,6,8,9,10], SV[sv]) # <- sat chosen here from table\n",
    "        \n",
    "        # modulo 2 add and append to the code\n",
    "        ca.append((g1 + g2) % 2)\n",
    "\n",
    "    # return C/A code!\n",
    "    return ca\n"
   ]
  },
  {
   "cell_type": "code",
   "execution_count": 7,
   "metadata": {},
   "outputs": [
    {
     "name": "stdout",
     "output_type": "stream",
     "text": [
      "[1, 1, 1, 0, 0, 1, 0, 0, 0, 0]\n"
     ]
    }
   ],
   "source": [
    "res = PRN(2)\n",
    "print(res[:10])\n",
    "#I stole literally all of this from https://natronics.github.io/blag/2014/gps-prn/"
   ]
  },
  {
   "cell_type": "code",
   "execution_count": null,
   "metadata": {},
   "outputs": [],
   "source": []
  },
  {
   "cell_type": "code",
   "execution_count": null,
   "metadata": {},
   "outputs": [],
   "source": []
  }
 ],
 "metadata": {
  "kernelspec": {
   "display_name": "Python 3",
   "language": "python",
   "name": "python3"
  },
  "language_info": {
   "codemirror_mode": {
    "name": "ipython",
    "version": 3
   },
   "file_extension": ".py",
   "mimetype": "text/x-python",
   "name": "python",
   "nbconvert_exporter": "python",
   "pygments_lexer": "ipython3",
   "version": "3.6.4"
  }
 },
 "nbformat": 4,
 "nbformat_minor": 2
}
